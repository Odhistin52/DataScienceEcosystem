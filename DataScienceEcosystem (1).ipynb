{
  "metadata": {
    "language_info": {
      "codemirror_mode": {
        "name": "python",
        "version": 3
      },
      "file_extension": ".py",
      "mimetype": "text/x-python",
      "name": "python",
      "nbconvert_exporter": "python",
      "pygments_lexer": "ipython3",
      "version": "3.8"
    },
    "kernelspec": {
      "name": "python",
      "display_name": "Pyolite",
      "language": "python"
    },
    "colab": {
      "provenance": []
    }
  },
  "nbformat_minor": 0,
  "nbformat": 4,
  "cells": [
    {
      "cell_type": "markdown",
      "source": [
        "# Data Science Tools and Ecosystem"
      ],
      "metadata": {
        "id": "rTS-e5-PIOys"
      }
    },
    {
      "cell_type": "markdown",
      "source": [
        "In this notebook, Data Science Tools and Ecosystem are summarized."
      ],
      "metadata": {
        "id": "F2oO6sC5IOyw"
      }
    },
    {
      "cell_type": "markdown",
      "source": [
        "Some of the popular languages that Data Scientists use are:\n",
        "1. Python\n",
        "2. R\n",
        "3. SQL"
      ],
      "metadata": {
        "id": "S6qy9KSYIOyw"
      }
    },
    {
      "cell_type": "markdown",
      "source": [
        "Some of the commonly used libraries used by Data Scientists include:\n",
        "1. Pandas\n",
        "2. NumPy\n",
        "3. Matplotlib"
      ],
      "metadata": {
        "tags": [],
        "id": "fCl2_47kIOyx"
      }
    },
    {
      "cell_type": "markdown",
      "source": [
        "| Data Science Tools |\n",
        "| -------------|\n",
        "| MongoDB |\n",
        "| Apache SparkSQL |\n",
        "| TensorFlow |"
      ],
      "metadata": {
        "id": "Q9cgjhnwIOyy"
      }
    },
    {
      "cell_type": "markdown",
      "source": [
        "### Below are a few examples of evaluating arithmetic expressions in Python"
      ],
      "metadata": {
        "id": "-xwDUWqcIOyy"
      }
    },
    {
      "cell_type": "code",
      "source": [
        "## This a simple arithmetic expression to mutiply then add integers\n",
        "(3*4)+5"
      ],
      "metadata": {
        "trusted": true,
        "id": "brmhkXlTIOyz",
        "outputId": "4064c531-5cdc-4f04-ad89-484364247151"
      },
      "execution_count": null,
      "outputs": [
        {
          "execution_count": 9,
          "output_type": "execute_result",
          "data": {
            "text/plain": "17"
          },
          "metadata": {}
        }
      ]
    },
    {
      "cell_type": "code",
      "source": [
        "## This will convert 200 minutes to hours by diving by 60\n",
        "200/60"
      ],
      "metadata": {
        "trusted": true,
        "id": "FZaxJvPhIOzv",
        "outputId": "c653924a-c839-4c79-9347-75bf8d90ce10"
      },
      "execution_count": null,
      "outputs": [
        {
          "execution_count": 10,
          "output_type": "execute_result",
          "data": {
            "text/plain": "3.3333333333333335"
          },
          "metadata": {}
        }
      ]
    },
    {
      "cell_type": "markdown",
      "source": [
        "**Objectives:**\n",
        "- Python\n",
        "- R\n",
        "- SQL"
      ],
      "metadata": {
        "id": "0xpQO4B6IOzw"
      }
    },
    {
      "cell_type": "markdown",
      "source": [
        "## Author\n",
        "Austine Odhiambo Odhiambo"
      ],
      "metadata": {
        "id": "2x4cEvFxIOzw"
      }
    },
    {
      "cell_type": "code",
      "source": [],
      "metadata": {
        "id": "_Mjsou9FIOzx"
      },
      "execution_count": null,
      "outputs": []
    }
  ]
}